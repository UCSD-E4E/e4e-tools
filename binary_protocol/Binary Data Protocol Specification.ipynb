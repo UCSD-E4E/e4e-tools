{
 "cells": [
  {
   "cell_type": "markdown",
   "metadata": {},
   "source": [
    "# Scope\n",
    "This document covers the data layer representation of data, and is intended to be used over any lower level transport layer."
   ]
  },
  {
   "cell_type": "markdown",
   "metadata": {},
   "source": [
    "# Packet Structure\n",
    "| Offset     | Type   | Description        |\n",
    "|------------|--------|--------------------|\n",
    "| 0x0000     | U8     | Sync Char (0xE4)   |\n",
    "| 0x0001     | U8     | Sync Char (0xEB)   |\n",
    "| 0x0002     | B[16]  | Source UUID        |\n",
    "| 0x0012     | B[16]  | Destination UUID   |\n",
    "| 0x0022     | U8     | Packet Class       |\n",
    "| 0x0023     | U8     | Packet ID          |\n",
    "| 0x0024     | U16    | Payload Length (N) |\n",
    "| 0x0026     | U16    | Header Checksum    |\n",
    "| 0x0028     | B[N]   | Payload            |\n",
    "| 0x0028 + N | U16    | Packet Checksum    |\n",
    "| 0x002A + N |        |                    |"
   ]
  },
  {
   "cell_type": "markdown",
   "metadata": {},
   "source": [
    "# Header Checksum\n",
    "The checksum shall be calculated over the entirety of the packet header (bytes 0x0000 to 0x0025) using the CRC-16 checksum (polynomial 0x1021, starting value 0xFFFF, no reflection).  The checksum itself shall be stored as a 16 bit big endian integer."
   ]
  },
  {
   "cell_type": "markdown",
   "metadata": {},
   "source": [
    "# Packet Checksum\n",
    "The checksum shall be calculated over the entirety of the packet header and payload using the CRC-16 checksum (polynomial 0x1021, starting value 0xFFFF, no reflection).  The checksum itself shall be stored as a 16 bit big endian integer.  Due to the nature of CRCs, this is equivalent to computing the CRC-16 checksum over the entirety of the payload."
   ]
  },
  {
   "cell_type": "markdown",
   "metadata": {},
   "source": [
    "# Data Types\n",
    "| Type | Length (bytes) | Description                    |\n",
    "|------|----------------|--------------------------------|\n",
    "| U8   | 1              | Unsigned 8 bit integer         |\n",
    "| U16  | 2              | Unsigned 16 bit integer        |\n",
    "| U32  | 4              | Unsigned 32 bit integer        |\n",
    "| U64  | 8              | Unsigned 64 bit integer        |\n",
    "| S8   | 1              | Signed 8 bit integer           |\n",
    "| S16  | 2              | Signed 16 bit integer          |\n",
    "| S32  | 4              | Signed 32 bit integer          |\n",
    "| S64  | 8              | Signed 64 bit integer          |\n",
    "| F32  | 4              | IEEE single precision float    |\n",
    "| F64  | 8              | IEEE double precision float    |\n",
    "| C[N] | N              | N-array of signed 8-bit chars  |\n",
    "| B[N] | N              | N-array of unsigned 8-bit ints |"
   ]
  },
  {
   "cell_type": "markdown",
   "metadata": {},
   "source": [
    "# Packet Classes\n",
    "| Packet Class | Description           |\n",
    "|--------------|-----------------------|\n",
    "| 0x01         | Status Packets        |\n",
    "| 0x02         | Configuration Packets |\n",
    "| 0x03         | Command Packets       |\n",
    "| 0x04         | Upgrade Packets       |\n",
    "| 0x05         | Data Packets          |\n",
    "| 0x06         | Interface Packets     |\n",
    "| 0xFF         | Debug/Dev Packets     |"
   ]
  },
  {
   "cell_type": "markdown",
   "metadata": {},
   "source": [
    "## Status (Class 0x01)"
   ]
  },
  {
   "cell_type": "markdown",
   "metadata": {},
   "source": [
    "### Heartbeat Packet (ID 0x01)"
   ]
  },
  {
   "cell_type": "markdown",
   "metadata": {},
   "source": [
    "## Configuration (Class 0x02)\n",
    "Messages in the Configuration class can be used to configure the endpoint and poll current configuration values.  To set a device's configuration, first send the Set Configuration command (0x03 0x00).  Wait for the device to acknowledge the command, then within 30 seconds, send the new Configuration.  Expect an ACK within 30 seconds of sending the new Configuration.  To poll a device's configuration, send the Configuration packet with a payload of 0 bytes.  "
   ]
  },
  {
   "cell_type": "markdown",
   "metadata": {},
   "source": [
    "### IMU Data Stream (0x00)\n",
    "| Payload Offset | Type   | Description                       |\n",
    "|----------------|--------|-----------------------------------|\n",
    "| 0x0000         | U8     | Packet Version = 1                |\n",
    "| 0x0001         | U8     | Coordinate Frame                  |\n",
    "| 0x0002         | U16    | Nominal Sample Rate (samples/sec) |\n",
    "| 0x0004         |        |                                   |"
   ]
  },
  {
   "cell_type": "markdown",
   "metadata": {},
   "source": [
    "### Audio Data Stream (0x01)\n",
    "| Payload Offset | Type   | Description                       |\n",
    "|----------------|--------|-----------------------------------|\n",
    "| 0x0000         | U8     | Packet Version = 1                |\n",
    "| 0x0001         | U8     | Bit Depth                         |\n",
    "| 0x0002         | U32    | Nominal Sample Rate (samples/sec) |\n",
    "| 0x0004         | U16    | Channel Bitmask                   |\n",
    "| 0x0006         |        |                                   |"
   ]
  },
  {
   "cell_type": "markdown",
   "metadata": {},
   "source": [
    "### Raw Data Streams (0xF0)\n",
    "This stores the raw data strem configuration.  Each MIME type should describe the custom data stream, and should be registered with both source and destination.  If the sensor does not support a particular MIME type, it should NACK the entire configuration.\n",
    "\n",
    "| Payload Offset | Type   | Description            |\n",
    "|----------------|--------|------------------------|\n",
    "| 0x0000         | U8     | Packet Version         |\n",
    "| 0x0001         | U8     | Number of Data IDs (N) |\n",
    "| 0x0002         | C[256] | Data ID 0 MIME Type    |\n",
    "| 0x0102         | C[256] | Data ID 1 MIME Type    |\n",
    "| ...            |        |                        |\n",
    "| 0x0002 + 256*N |        |                        |"
   ]
  },
  {
   "cell_type": "markdown",
   "metadata": {},
   "source": [
    "## Command (Class 0x03)"
   ]
  },
  {
   "cell_type": "markdown",
   "metadata": {},
   "source": [
    "### Set Configuration Command (0x00)\n",
    "To set a device's configuration, first send this command.  Wait for the device to acknowledge the command, then within 30 seconds, send the new Configuration.  Expect an ACK within 30 seconds of sending the new Configuration.\n",
    "\n",
    "| Payload Offset | Type | Description        |\n",
    "|----------------|------|--------------------|\n",
    "| 0x0000         | U8   | Packet Version = 1 |\n",
    "| 0x0001         | U8   | Reserved           |\n",
    "| 0x0002         |      |                    |"
   ]
  },
  {
   "cell_type": "markdown",
   "metadata": {},
   "source": [
    "## ACK/NACK Packet (ID 0x00)\n",
    "\n",
    "Acknowledge or reject command or configuration messages.\n",
    "\n",
    "| Payload Offset | Type | Description        |\n",
    "|----------------|------|--------------------|\n",
    "| 0x0000         | U8   | Packet Version = 1 |\n",
    "| 0x0001         | U8   | ACK (1) / NACK (0) |\n",
    "| 0x0002         | U8   | Message Class      |\n",
    "| 0x0003         | U8   | Message ID         |\n",
    "| 0x0004         |      |                    |"
   ]
  },
  {
   "cell_type": "markdown",
   "metadata": {},
   "source": [
    "## Data (Class 0x04)"
   ]
  },
  {
   "cell_type": "markdown",
   "metadata": {},
   "source": [
    "### IMU Data (0x00)\n",
    "| Payload Offset | Type | Description                          |\n",
    "|----------------|------|--------------------------------------|\n",
    "| 0x0000         | U8   | Packet Version = 1                   |\n",
    "| 0x0001         | U8   | Reserved                             |\n",
    "| 0x0002         | U64  | Data Timestamp (ms since Unix Epoch) |\n",
    "| 0x000A         | F32  | Acc, X Axis (m/s/s)                  |\n",
    "| 0x000E         | F32  | Acc, Y Axis (m/s/s)                  |\n",
    "| 0x0012         | F32  | Acc, Z Axis (m/s/s)                  |\n",
    "| 0x0016         | F32  | Gyro, X Axis (rad/s)                 |\n",
    "| 0x001A         | F32  | Gyro, Y Axis (rad/s)                 |\n",
    "| 0x001E         | F32  | Gyro, Z Axis (rad/s)                 |\n",
    "| 0x0022         | F32  | Mag, X Axis (mT)                     |\n",
    "| 0x0026         | F32  | Mag, Y Axis (mT)                     |\n",
    "| 0x002A         | F32  | Mag, Z Axis (mT)                     |\n",
    "| 0x002E         |      |                                      |"
   ]
  },
  {
   "cell_type": "markdown",
   "metadata": {},
   "source": [
    "### Uncompressed 8-bit Audio Data (0x01)\n",
    "| Payload Offset | Type  | Description                          |\n",
    "|----------------|-------|--------------------------------------|\n",
    "| 0x0000         | U8    | Packet Version = 1                   |\n",
    "| 0x0001         | U8    | Number of Channels [C]               |\n",
    "| 0x0002         | U16   | Number of samples per channel [N]    |\n",
    "| 0x0004         | U64   | Data Timestamp (ms since Unix Epoch) |\n",
    "| 0x000C         | U8[N] | Channel 1 Samples                    |\n",
    "| 0x000C + N     | U8[N] | Channel 2 Samples                    |\n",
    "| ...            |       |                                      |\n",
    "| 0x000C + CN    |       |                                      |"
   ]
  },
  {
   "cell_type": "markdown",
   "metadata": {},
   "source": [
    "### Uncompressed 16-bit Audio Data (0x02)\n",
    "| Payload Offset | Type   | Description                          |\n",
    "|----------------|--------|--------------------------------------|\n",
    "| 0x0000         | U8     | Packet Version = 1                   |\n",
    "| 0x0001         | U8     | Number of Channels [C]               |\n",
    "| 0x0002         | U16    | Number of samples per channel [N]    |\n",
    "| 0x0004         | U64    | Data Timestamp (ms since Unix Epoch) |\n",
    "| 0x000C         | U16[N] | Channel 1 Samples                    |\n",
    "| 0x000C + 2N    | U16[N] | Channel 2 Samples                    |\n",
    "| ...            |        |                                      |\n",
    "| 0x000C + 2CN   |        |                                      |"
   ]
  },
  {
   "cell_type": "markdown",
   "metadata": {},
   "source": [
    "### Raw Data Stream (0xF0)\n",
    "This is to facilitate custom and complex data types not covered by existing basic data types.  The Data ID is an 8-bit value unique to the endpoint that specifies what the data format is.  Other devices can discover this by polling the Raw Data Stream Configuration and retrieving the data ID MIME types.\n",
    "\n",
    "| Payload Offset | Type | Description                          |\n",
    "|----------------|------|--------------------------------------|\n",
    "| 0x0000         | U8   | Packet Version = 1                   |\n",
    "| 0x0001         | U8   | Data ID                              |\n",
    "| 0x0002         | U64  | Data Timestamp (ms since Unix Epoch) |\n",
    "| 0x000A         | U16  | Data Length (N)                      |\n",
    "| 0x000C         | B[N] | Data                                 |\n",
    "| 0x000C + N     |      |                                      |"
   ]
  },
  {
   "cell_type": "markdown",
   "metadata": {},
   "source": [
    "### Raw File Header (ID 0xFC)\n",
    "This is sent by the device (source) with the file to the device (target) to put the file onto.  When the target receives this packet, it should acknowledge the packet with a Raw File CTS packet within 5 seconds.  If the source does not receive a Raw File CTS packet within 5 seconds, it may reissue the Raw File Header packet no earlier than 8 seconds after it sent the first Raw File Header packet.\n",
    "\n",
    "The source device shall assign a session unique file ID that will facilitate multiple file transfers simultaneously.  The target device must be able to handle multiple sources with identical file IDs.  File IDs may be reused once the original file transfer is complete.\n",
    "\n",
    "The filename specified by the source shall be the base filename, including extension.  The target device shall prepend the datetime code to this, and place it in the appropriate directory.  The source device shall not specify in the filename a path or datetime code.\n",
    "\n",
    "The file length shall be the number of Raw File Data packets expected.  Each Raw File Data packet can support at most 65483 bytes of data, and can also transmit fewer than 65483 bytes of data.\n",
    "\n",
    "| Payload Offset | Type | Description                          |\n",
    "|----------------|------|--------------------------------------|\n",
    "| 0x0000         | U8   | Packet Version = 1                   |\n",
    "| 0x0001         | U8   | File ID                              |\n",
    "| 0x0002         | U16  | Filename Length (N)                  |\n",
    "| 0x0004         | U16  | MIME Type Length (M)                 |\n",
    "| 0x0006         | U64  | File Length (packets)                |\n",
    "| 0x000E         | U64  | File Timestamp (ms since Unix Epoch) |\n",
    "| 0x0016         | C[N] | Filename                             |\n",
    "| 0x0016 + N     | C[M] | MIME Type                            |\n",
    "| 0x0016 + N + M |      |                                      |\n",
    "\n",
    "### Raw File CTS (ID 0xFD)\n",
    "This is sent by the target device to the source device to acknowledge the Raw File Header packet.  Once the target has sent the Raw File CTS packet with an ACK, it shall expect a Raw File Data Packet within 30 seconds.  After 30 seconds, if the target does not receive a Raw File Data Packet, the target shall issue a Raw File CTS packet with a NACK, and consider the file ID available for further file transfers.\n",
    "\n",
    "| Payload Offset | Type | Description        |\n",
    "|----------------|------|--------------------|\n",
    "| 0x0000         | U8   | Packet Version = 1 |\n",
    "| 0x0001         | U8   | File ID            |\n",
    "| 0x0002         | U8   | ACK                |\n",
    "| 0x0003         |      |                    |\n",
    "\n",
    "### Raw File ACK/NACK (ID 0xFE)\n",
    "This is sent by the target device to the source device to acknowledge the receipt of a Raw File Data packet.  The target device shall expect the Raw File Data packets in sequence.  If the target device receives a Raw File Data packet out of sequence in a way that indicates it has missed a packet, it shall issue both a Raw File ACK for the packet that was received properly, and a Raw File NACK for the packet that was not received.  If the target device is expecting the next packet, but does not receive any Raw File Data packets for 30 seconds, then the target device shall issue a Raw File NACK for the next packet.  If the target device is only expecting retransmitted packets, and does not receive any Raw File Data packets for 30 seconds, then the target device shall issue a Raw File CTS NACK packet and discard the received file.\n",
    "\n",
    "| Payload Offset | Type | Description        |\n",
    "|----------------|------|--------------------|\n",
    "| 0x0000         | U8   | Packet Version = 1 |\n",
    "| 0x0001         | U8   | File ID            |\n",
    "| 0x0002         | U16  | Packet Sequence    |\n",
    "| 0x0004         | U8   | ACK                |\n",
    "| 0x0005         |      |                    |\n",
    "\n",
    "### Raw File (ID 0xFF)\n",
    "This is sent by the source device to the target device to transfer data.  The source device shall send the Raw File Data packets sequentially without waiting for the corresponding Raw File ACK/NACK.  The source device shall also resend a Raw File Data packet in response to a Raw File NACK packet.\n",
    "\n",
    "| Payload Offset | Type | Description           |\n",
    "|----------------|------|-----------------------|\n",
    "| 0x0000         | U8   | Packet Version = 1    |\n",
    "| 0x0001         | U8   | File ID               |\n",
    "| 0x0002         | U16  | Packet Sequence       |\n",
    "| 0x0004         | U64  | Packet Length (bytes) |\n",
    "| 0x000C         | B[N] | Data                  |\n",
    "| 0x000C + N     |      |                       |\n"
   ]
  },
  {
   "cell_type": "code",
   "execution_count": null,
   "metadata": {},
   "outputs": [],
   "source": []
  }
 ],
 "metadata": {
  "kernelspec": {
   "display_name": "Python 3",
   "language": "python",
   "name": "python3"
  },
  "language_info": {
   "codemirror_mode": {
    "name": "ipython",
    "version": 3
   },
   "file_extension": ".py",
   "mimetype": "text/x-python",
   "name": "python",
   "nbconvert_exporter": "python",
   "pygments_lexer": "ipython3",
   "version": "3.6.9"
  }
 },
 "nbformat": 4,
 "nbformat_minor": 4
}
