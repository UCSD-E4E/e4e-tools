{
 "cells": [
  {
   "cell_type": "code",
   "execution_count": 1,
   "metadata": {},
   "outputs": [],
   "source": [
    "from googleapiclient.discovery import build\n",
    "from google_auth_oauthlib.flow import InstalledAppFlow\n",
    "from google.auth.transport.requests import Request\n",
    "import pickle\n",
    "import os\n",
    "import pandas as pd\n",
    "import datetime as dt"
   ]
  },
  {
   "cell_type": "code",
   "execution_count": 2,
   "metadata": {},
   "outputs": [],
   "source": [
    "expeditionsSheet_ID = '1rdE6YERXctYlLUICt1hPtJp3uLdZ7u9yeWcDQFJRHts'\n",
    "expeditionsDataRange = 'Sheet1'\n",
    "SCOPES = ['https://www.googleapis.com/auth/spreadsheets']"
   ]
  },
  {
   "cell_type": "code",
   "execution_count": 3,
   "metadata": {},
   "outputs": [],
   "source": [
    "creds = None\n",
    "expCredsPath = 'expeditions.pkl'\n",
    "if os.path.exists(expCredsPath):\n",
    "    with open(expCredsPath, 'rb') as token:\n",
    "        creds = pickle.load(token)\n",
    "if not creds or not creds.valid:\n",
    "    if creds and creds.expired and creds.refresh_token:\n",
    "        creds.refresh(Request())\n",
    "    else:\n",
    "        flow = InstalledAppFlow.from_client_secrets_file('credentials.json', SCOPES)\n",
    "        creds = flow.run_local_server(port=0)\n",
    "    with open(expCredsPath, 'wb') as token:\n",
    "        pickle.dump(creds, token)\n",
    "service = build('sheets', 'v4', credentials=creds)\n",
    "sheet = service.spreadsheets()"
   ]
  },
  {
   "cell_type": "code",
   "execution_count": null,
   "metadata": {},
   "outputs": [],
   "source": [
    "result = sheet.values().get(spreadsheetId = expeditionsSheet_ID,\n",
    "                           range=expeditionsDataRange).execute()\n",
    "values = result.get('values', [])"
   ]
  },
  {
   "cell_type": "code",
   "execution_count": null,
   "metadata": {},
   "outputs": [],
   "source": [
    "df = pd.DataFrame(values[1:], columns=values[0])\n",
    "df['Link'][df['Link'] == ''] = None\n",
    "df['Media'][df['Media'] == ''] = None\n",
    "df['People'][df['People'] == ''] = None"
   ]
  },
  {
   "cell_type": "code",
   "execution_count": null,
   "metadata": {},
   "outputs": [],
   "source": [
    "for index in df.index:\n",
    "    df.loc[index, \"Date\"] = dt.datetime.strptime(df['Year'][index] + \" \"+ df['Month'][index], \"%Y %B\").date()"
   ]
  },
  {
   "cell_type": "code",
   "execution_count": null,
   "metadata": {},
   "outputs": [],
   "source": [
    "df.sort_values(\"Date\", inplace=True, ascending=False)"
   ]
  },
  {
   "cell_type": "code",
   "execution_count": null,
   "metadata": {},
   "outputs": [],
   "source": [
    "html = \"\"\n",
    "for index, row in df.iterrows():\n",
    "    # heading\n",
    "    html += \"<!-- wp:heading -->\\n\"\n",
    "    if row['Link']:\n",
    "        html += \"<h2>\"\n",
    "        html += \"<a href=\\\"%s\\\" data-type=\\\"URL\\\" data-id=\\\"%s\\\">\" % (row['Link'], row['Link'])\n",
    "        html += \"%s\" % (row['Project'])\n",
    "        html += \"</a>\"\n",
    "        html += \" - %s %s\" % (row['Month'], row['Year'])\n",
    "        \n",
    "        html += \"</h2>\"\n",
    "        html += \"\\n\"\n",
    "    else:\n",
    "        html += \"<h2>%s - %s %s</h2>\\n\" % (row['Project'], row['Month'], row['Year'])\n",
    "    html += \"<!-- /wp:heading -->\\n\"\n",
    "    html += \"\\n\"\n",
    "    \n",
    "    # Location\n",
    "    html += \"<!-- wp:paragraph -->\\n\"\n",
    "    html += \"<p><strong>Location:</strong> %s</p>\\n\" % (row[\"Location\"])\n",
    "    html += \"<!-- /wp:paragraph -->\\n\"\n",
    "    html += \"\\n\"\n",
    "    \n",
    "    if row['People']:\n",
    "        # People\n",
    "    #     html += \"<!-- wp:paragraph -->\\n\"\n",
    "    #     html += \"<p>People:</p>\\n\"\n",
    "    #     html += \"<!-- /wp:paragraph -->\\n\"\n",
    "    #     html += \"\\n\"\n",
    "\n",
    "        html += \"<!-- wp:list -->\\n\"\n",
    "        html += \"<ul>\"\n",
    "        for person in row['People'].splitlines():\n",
    "            html += \"<li>%s</li>\" % (person)\n",
    "        html += \"</ul\\n\"\n",
    "        html += \"<!-- /wp:list -->\\n\"\n",
    "        html += \"\\n\"\n",
    "print(html)\n",
    "with open('expeditions.txt', 'w') as file:\n",
    "    file.write(html)"
   ]
  },
  {
   "cell_type": "code",
   "execution_count": null,
   "metadata": {},
   "outputs": [],
   "source": []
  }
 ],
 "metadata": {
  "kernelspec": {
   "display_name": "Python 3",
   "language": "python",
   "name": "python3"
  },
  "language_info": {
   "codemirror_mode": {
    "name": "ipython",
    "version": 3
   },
   "file_extension": ".py",
   "mimetype": "text/x-python",
   "name": "python",
   "nbconvert_exporter": "python",
   "pygments_lexer": "ipython3",
   "version": "3.6.9"
  }
 },
 "nbformat": 4,
 "nbformat_minor": 4
}
